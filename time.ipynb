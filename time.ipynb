{
  "nbformat": 4,
  "nbformat_minor": 0,
  "metadata": {
    "colab": {
      "provenance": []
    },
    "kernelspec": {
      "name": "python3",
      "display_name": "Python 3"
    },
    "language_info": {
      "name": "python"
    }
  },
  "cells": [
    {
      "cell_type": "code",
      "execution_count": null,
      "metadata": {
        "id": "vacCEZLegOjk"
      },
      "outputs": [],
      "source": []
    },
    {
      "cell_type": "code",
      "source": [
        "import datetime\n",
        "\n",
        "def print_current_time():\n",
        "    # Get the current time\n",
        "    now = datetime.datetime.now()\n",
        "\n",
        "    # Format the time\n",
        "    current_time = now.strftime(\"%Y-%m-%d %H:%M:%S\")\n",
        "\n",
        "    # Print the current time\n",
        "    print(\"Current system time:\", current_time)\n",
        "\n",
        "if __name__ == \"__main__\":\n",
        "    print_current_time()\n"
      ],
      "metadata": {
        "colab": {
          "base_uri": "https://localhost:8080/"
        },
        "id": "ZgohNC_TgpxW",
        "outputId": "4bcd0e4f-4919-45db-8b17-adbdd367ef0b"
      },
      "execution_count": 4,
      "outputs": [
        {
          "output_type": "stream",
          "name": "stdout",
          "text": [
            "Current system time: 2024-10-02 14:34:27\n"
          ]
        }
      ]
    }
  ]
}